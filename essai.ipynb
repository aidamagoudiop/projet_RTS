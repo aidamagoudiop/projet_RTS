{
 "cells": [
  {
   "cell_type": "code",
   "execution_count": 1,
   "id": "6abeb1b2",
   "metadata": {},
   "outputs": [
    {
     "name": "stdout",
     "output_type": "stream",
     "text": [
      "Requirement already satisfied: pandas in c:\\users\\lenovo\\anaconda3-1\\lib\\site-packages (from -r requirements.txt (line 2)) (2.2.2)\n",
      "Requirement already satisfied: numpy in c:\\users\\lenovo\\anaconda3-1\\lib\\site-packages (from -r requirements.txt (line 3)) (1.26.4)\n",
      "Requirement already satisfied: matplotlib in c:\\users\\lenovo\\anaconda3-1\\lib\\site-packages (from -r requirements.txt (line 4)) (3.9.2)\n",
      "Collecting geopandas (from -r requirements.txt (line 5))\n",
      "  Downloading geopandas-1.1.0-py3-none-any.whl.metadata (2.3 kB)\n",
      "Collecting shapely (from -r requirements.txt (line 6))\n",
      "  Downloading shapely-2.1.1-cp312-cp312-win_amd64.whl.metadata (7.0 kB)\n",
      "Collecting reportlab (from -r requirements.txt (line 7))\n",
      "  Downloading reportlab-4.4.1-py3-none-any.whl.metadata (1.8 kB)\n",
      "Requirement already satisfied: python-dateutil>=2.8.2 in c:\\users\\lenovo\\anaconda3-1\\lib\\site-packages (from pandas->-r requirements.txt (line 2)) (2.9.0.post0)\n",
      "Requirement already satisfied: pytz>=2020.1 in c:\\users\\lenovo\\anaconda3-1\\lib\\site-packages (from pandas->-r requirements.txt (line 2)) (2024.1)\n",
      "Requirement already satisfied: tzdata>=2022.7 in c:\\users\\lenovo\\anaconda3-1\\lib\\site-packages (from pandas->-r requirements.txt (line 2)) (2023.3)\n",
      "Requirement already satisfied: contourpy>=1.0.1 in c:\\users\\lenovo\\anaconda3-1\\lib\\site-packages (from matplotlib->-r requirements.txt (line 4)) (1.2.0)\n",
      "Requirement already satisfied: cycler>=0.10 in c:\\users\\lenovo\\anaconda3-1\\lib\\site-packages (from matplotlib->-r requirements.txt (line 4)) (0.11.0)\n",
      "Requirement already satisfied: fonttools>=4.22.0 in c:\\users\\lenovo\\anaconda3-1\\lib\\site-packages (from matplotlib->-r requirements.txt (line 4)) (4.51.0)\n",
      "Requirement already satisfied: kiwisolver>=1.3.1 in c:\\users\\lenovo\\anaconda3-1\\lib\\site-packages (from matplotlib->-r requirements.txt (line 4)) (1.4.4)\n",
      "Requirement already satisfied: packaging>=20.0 in c:\\users\\lenovo\\anaconda3-1\\lib\\site-packages (from matplotlib->-r requirements.txt (line 4)) (24.1)\n",
      "Requirement already satisfied: pillow>=8 in c:\\users\\lenovo\\anaconda3-1\\lib\\site-packages (from matplotlib->-r requirements.txt (line 4)) (10.4.0)\n",
      "Requirement already satisfied: pyparsing>=2.3.1 in c:\\users\\lenovo\\anaconda3-1\\lib\\site-packages (from matplotlib->-r requirements.txt (line 4)) (3.1.2)\n",
      "Collecting pyogrio>=0.7.2 (from geopandas->-r requirements.txt (line 5))\n",
      "  Downloading pyogrio-0.11.0-cp312-cp312-win_amd64.whl.metadata (5.4 kB)\n",
      "Collecting pyproj>=3.5.0 (from geopandas->-r requirements.txt (line 5))\n",
      "  Downloading pyproj-3.7.1-cp312-cp312-win_amd64.whl.metadata (31 kB)\n",
      "Requirement already satisfied: chardet in c:\\users\\lenovo\\anaconda3-1\\lib\\site-packages (from reportlab->-r requirements.txt (line 7)) (4.0.0)\n",
      "Requirement already satisfied: certifi in c:\\users\\lenovo\\anaconda3-1\\lib\\site-packages (from pyogrio>=0.7.2->geopandas->-r requirements.txt (line 5)) (2025.1.31)\n",
      "Requirement already satisfied: six>=1.5 in c:\\users\\lenovo\\anaconda3-1\\lib\\site-packages (from python-dateutil>=2.8.2->pandas->-r requirements.txt (line 2)) (1.16.0)\n",
      "Downloading geopandas-1.1.0-py3-none-any.whl (338 kB)\n",
      "Downloading shapely-2.1.1-cp312-cp312-win_amd64.whl (1.7 MB)\n",
      "   ---------------------------------------- 0.0/1.7 MB ? eta -:--:--\n",
      "   ------------------------ --------------- 1.0/1.7 MB 6.3 MB/s eta 0:00:01\n",
      "   ------------------------------------ --- 1.6/1.7 MB 4.0 MB/s eta 0:00:01\n",
      "   ------------------------------------ --- 1.6/1.7 MB 4.0 MB/s eta 0:00:01\n",
      "   ---------------------------------------- 1.7/1.7 MB 2.1 MB/s eta 0:00:00\n",
      "Downloading reportlab-4.4.1-py3-none-any.whl (2.0 MB)\n",
      "   ---------------------------------------- 0.0/2.0 MB ? eta -:--:--\n",
      "   -------------------------- ------------- 1.3/2.0 MB 7.4 MB/s eta 0:00:01\n",
      "   ---------------------------------------- 2.0/2.0 MB 5.1 MB/s eta 0:00:00\n",
      "Downloading pyogrio-0.11.0-cp312-cp312-win_amd64.whl (19.2 MB)\n",
      "   ---------------------------------------- 0.0/19.2 MB ? eta -:--:--\n",
      "   ---------------------------------------- 0.0/19.2 MB ? eta -:--:--\n",
      "    --------------------------------------- 0.3/19.2 MB ? eta -:--:--\n",
      "   - -------------------------------------- 0.5/19.2 MB 985.5 kB/s eta 0:00:19\n",
      "   -- ------------------------------------- 1.0/19.2 MB 1.6 MB/s eta 0:00:12\n",
      "   ---- ----------------------------------- 2.1/19.2 MB 2.4 MB/s eta 0:00:08\n",
      "   ------ --------------------------------- 3.1/19.2 MB 3.1 MB/s eta 0:00:06\n",
      "   --------- ------------------------------ 4.5/19.2 MB 3.6 MB/s eta 0:00:05\n",
      "   ----------- ---------------------------- 5.5/19.2 MB 3.8 MB/s eta 0:00:04\n",
      "   ------------- -------------------------- 6.6/19.2 MB 3.9 MB/s eta 0:00:04\n",
      "   --------------- ------------------------ 7.3/19.2 MB 4.1 MB/s eta 0:00:03\n",
      "   ---------------- ----------------------- 8.1/19.2 MB 4.1 MB/s eta 0:00:03\n",
      "   ------------------- -------------------- 9.2/19.2 MB 4.0 MB/s eta 0:00:03\n",
      "   -------------------- ------------------- 10.0/19.2 MB 4.0 MB/s eta 0:00:03\n",
      "   ---------------------- ----------------- 10.7/19.2 MB 4.0 MB/s eta 0:00:03\n",
      "   ------------------------- -------------- 12.3/19.2 MB 4.2 MB/s eta 0:00:02\n",
      "   --------------------------- ------------ 13.1/19.2 MB 4.2 MB/s eta 0:00:02\n",
      "   ----------------------------- ---------- 14.2/19.2 MB 4.3 MB/s eta 0:00:02\n",
      "   ------------------------------- -------- 15.2/19.2 MB 4.3 MB/s eta 0:00:01\n",
      "   --------------------------------- ------ 16.0/19.2 MB 4.3 MB/s eta 0:00:01\n",
      "   ----------------------------------- ---- 16.8/19.2 MB 4.3 MB/s eta 0:00:01\n",
      "   ------------------------------------- -- 17.8/19.2 MB 4.3 MB/s eta 0:00:01\n",
      "   ---------------------------------------  18.9/19.2 MB 4.3 MB/s eta 0:00:01\n",
      "   ---------------------------------------- 19.2/19.2 MB 4.2 MB/s eta 0:00:00\n",
      "Downloading pyproj-3.7.1-cp312-cp312-win_amd64.whl (6.3 MB)\n",
      "   ---------------------------------------- 0.0/6.3 MB ? eta -:--:--\n",
      "   ----- ---------------------------------- 0.8/6.3 MB 5.6 MB/s eta 0:00:01\n",
      "   -------- ------------------------------- 1.3/6.3 MB 3.5 MB/s eta 0:00:02\n",
      "   ------------- -------------------------- 2.1/6.3 MB 3.7 MB/s eta 0:00:02\n",
      "   ------------------ --------------------- 2.9/6.3 MB 3.9 MB/s eta 0:00:01\n",
      "   ------------------------- -------------- 3.9/6.3 MB 4.0 MB/s eta 0:00:01\n",
      "   ------------------------------- -------- 5.0/6.3 MB 4.2 MB/s eta 0:00:01\n",
      "   -------------------------------------- - 6.0/6.3 MB 4.4 MB/s eta 0:00:01\n",
      "   ---------------------------------------- 6.3/6.3 MB 4.3 MB/s eta 0:00:00\n",
      "Installing collected packages: shapely, reportlab, pyproj, pyogrio, geopandas\n",
      "Successfully installed geopandas-1.1.0 pyogrio-0.11.0 pyproj-3.7.1 reportlab-4.4.1 shapely-2.1.1\n"
     ]
    }
   ],
   "source": [
    "!pip install -r requirements.txt\n"
   ]
  }
 ],
 "metadata": {
  "kernelspec": {
   "display_name": "base",
   "language": "python",
   "name": "python3"
  },
  "language_info": {
   "codemirror_mode": {
    "name": "ipython",
    "version": 3
   },
   "file_extension": ".py",
   "mimetype": "text/x-python",
   "name": "python",
   "nbconvert_exporter": "python",
   "pygments_lexer": "ipython3",
   "version": "3.12.7"
  }
 },
 "nbformat": 4,
 "nbformat_minor": 5
}
