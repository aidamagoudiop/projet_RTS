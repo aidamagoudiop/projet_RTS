{
 "cells": [
  {
   "cell_type": "code",
   "execution_count": null,
   "id": "d5a8f186",
   "metadata": {},
   "outputs": [],
   "source": [
    "# !pip install pandas numpy matplotlib geopandas shapely reportlab\n",
    "from utils.calculs import calculs_principaux\n",
    "from utils.visualisation import generer_carte_couverture\n",
    "from utils.rapport import generer_rapport_pdf\n",
    "\n",
    "res = calculs_principaux(\"data/zone.csv\")\n",
    "generer_carte_couverture(res)\n",
    "generer_rapport_pdf(res)\n",
    "res\n"
   ]
  }
 ],
 "metadata": {
  "language_info": {
   "name": "python"
  }
 },
 "nbformat": 4,
 "nbformat_minor": 5
}
